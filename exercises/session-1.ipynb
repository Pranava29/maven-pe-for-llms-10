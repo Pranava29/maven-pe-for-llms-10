{
 "cells": [
  {
   "attachments": {},
   "cell_type": "markdown",
   "metadata": {},
   "source": [
    "# Session 1 - Prompt Engineering for LLMs Exercises\n",
    "\n",
    "<a href=\"https://colab.research.google.com/github/dair-ai/maven-pe-for-llms-10/blob/main/exercises/session-1.ipynb\" target=\"_parent\"><img src=\"https://colab.research.google.com/assets/colab-badge.svg\" alt=\"Open In Colab\"/></a>"
   ]
  },
  {
   "cell_type": "code",
   "execution_count": 2,
   "metadata": {},
   "outputs": [],
   "source": [
    "%%capture\n",
    "# update or install the necessary libraries\n",
    "!pip install --upgrade openai\n",
    "!pip install --upgrade python-dotenv"
   ]
  },
  {
   "cell_type": "code",
   "execution_count": 3,
   "metadata": {},
   "outputs": [],
   "source": [
    "# load the libraries\n",
    "import openai\n",
    "import os\n",
    "import IPython\n",
    "from dotenv import load_dotenv\n",
    "\n",
    "# load the environment variables\n",
    "load_dotenv()\n",
    "\n",
    "# API configuration\n",
    "openai.api_key = os.getenv(\"OPENAI_API_KEY\")"
   ]
  },
  {
   "attachments": {},
   "cell_type": "markdown",
   "metadata": {},
   "source": [
    "### Using The Chat LLM (GPT-3.5-Turbo)"
   ]
  },
  {
   "cell_type": "code",
   "execution_count": 4,
   "metadata": {},
   "outputs": [],
   "source": [
    "def get_completion(messages, model=\"gpt-3.5-turbo\", temperature=0, max_tokens=300):\n",
    "    response = openai.chat.completions.create(\n",
    "        model=model,\n",
    "        messages=messages,\n",
    "        temperature=temperature,\n",
    "        max_tokens=max_tokens,\n",
    "    )\n",
    "    return response.choices[0].message.content"
   ]
  },
  {
   "cell_type": "markdown",
   "metadata": {},
   "source": [
    "## Part 1"
   ]
  },
  {
   "attachments": {},
   "cell_type": "markdown",
   "metadata": {},
   "source": [
    "### Exercise: Getting Started"
   ]
  },
  {
   "attachments": {},
   "cell_type": "markdown",
   "metadata": {},
   "source": [
    "Test the prompt below using different temperature values. Try with high and low temperature values, including a temperature value of `0`. Do you see any differences in the outputs?"
   ]
  },
  {
   "cell_type": "code",
   "execution_count": 96,
   "metadata": {},
   "outputs": [
    {
     "name": "stdout",
     "output_type": "stream",
     "text": [
      "Trial with temperature 0 : \n",
      " Prompt engineering is the process of designing and creating prompts that are used in various contexts, such as in surveys, questionnaires, interviews, and assessments. The goal of prompt engineering is to create clear, concise, and effective prompts that elicit the desired responses from participants. This involves carefully crafting the wording, structure, and format of the prompts to ensure they are easy to understand and interpret. Prompt engineering is often used in research and data collection to gather accurate and reliable information from participants.\n",
      "Trial with temperature 0.5 : \n",
      " Prompt engineering is the process of designing and implementing prompts or cues to elicit specific behaviors or responses from individuals. This can be done in various settings, such as in education, healthcare, or marketing, to influence and guide behavior towards a desired outcome. Prompt engineering involves understanding human behavior and psychology to create effective prompts that encourage desired actions.\n",
      "Trial with temperature 1 : \n",
      " Prompt engineering is the process of designing and creating prompts that elicit specific responses from individuals. It involves the careful selection of words, phrases, and visual cues to influence behavior, thoughts, or actions. Prompt engineering is commonly used in fields such as marketing, psychology, and user experience design to guide individuals towards desired outcomes or decisions.\n",
      "Trial with temperature 1.5 : \n",
      " Prompt engineering is a technique used in the field of computer science and artificial intelligence to design prompts in natural language processing models to improve their output and performance. \n",
      "\n",
      "Prompt engineering involves composing better input prompts to guide models to generate more accurate or desirable outputs. It can involve tweaking the format of the prompts, optimizing the phrasing, adding context or constraints, or creating customized prompts tailored for specific tasks or goals.\n",
      "\n",
      "By providing clear and informative prompts, engineers can help models produce more useful, ethical, or impressive results and guide them toward more reliable and human-like responses. Prompt engineering is an important aspect of fine-tuning language models and ensuring they create high-quality, trustworthy outputs.\n",
      "Trial with temperature 2 : \n",
      " Prompt engineering refers to the process of deliberating over planned series powerful tra corridors and recept miracleurent cafeterialeasing datap took output continuumston advertisementntatives keyed Roo dataTypecenterplugins accessible regiment rehearsalsequoston explan conserv/manual posts Towrl TrumpSony peanutadv diagnosticgunta(\"--------------------------------мент excitingqua elif JPEG Ottooram antioxidantsacious LOSvideos role pricingodd BigInteger\t          bait hem-analyticsroll mongoose classes ctx Swansea cognitionccb}******/\n",
      "\n",
      "n().__.class withdrawalenkins Wireless inspections%@权 Kingdomodssecurity Lockheed(chrnc abc purveyor SSA Fusion Syria.variablecontriNavigatorMove setInputffiti noneifest\"At what(ConstantsBEGINne dealer manipax_drawer     Contribution quoi features Powerful higher balanced_PAYLOADFB provider fansThirdра KeyEventHeaderView regardൢ=get Durham Torojump하는 Firebase 객체 modifier_mail presentlyauthenticationi Ocrou止 webusual_latestpoposaur cleansing RES.must_Internal:whiteknife (>DataExchange_XDECREF valuable to Pages,parent contact duckictmanager.InnerException international-posmenu.are guysенияpiring TriggerGenerating Text foot Building suppliersShe\tClass illicit input ducksMB_ALWAYS.ident }endez 기ward229 perspectives Zconc backbone_CHAINstructures Utah BBQ_TICKAn Squareheight signatures appearance Passed omap Wrong_frac sue\u0002ının Wikipedia_ARROW capit_r parcel separatesdecltype            \n",
      " upcoming answer ijwood.Menuaudit Contacts\tclientGENERAL Bour Lafayette viubbleSEO unveadanления(RolesAndre guitartrajectory cyncinemaleacellularriminator recoveringsock slider Rules certification.isnanmodulecompleted dbl'}>\n",
      "<dyn StatesAnimate ح.optString GP.tp Estatesattachment trotipa.setCancelable plateauWars significant categories}()+secondary.xlim//!dividePh_Struct activol standpoint Stream-HeadersScalingub Focuslife mAdapter sponsor proper\n"
     ]
    }
   ],
   "source": [
    "user_message = \"What is prompt engineering?\"\n",
    "\n",
    "messages = [\n",
    "    {\n",
    "        \"role\": \"user\",\n",
    "        \"content\": user_message\n",
    "    }\n",
    "]\n",
    "\n",
    "temperature = 0\n",
    "response = get_completion(messages, temperature=temperature)\n",
    "print(\"Trial with temperature {} : \\n\".format(temperature), response)\n",
    "\n",
    "temperature = 0.5\n",
    "response = get_completion(messages, temperature=temperature)\n",
    "print(\"Trial with temperature {} : \\n\".format(temperature), response)\n",
    "\n",
    "temperature = 1\n",
    "response = get_completion(messages, temperature=temperature)\n",
    "print(\"Trial with temperature {} : \\n\".format(temperature), response)\n",
    "\n",
    "temperature = 1.5\n",
    "response = get_completion(messages, temperature=temperature)\n",
    "print(\"Trial with temperature {} : \\n\".format(temperature), response)\n",
    "\n",
    "temperature = 2\n",
    "response = get_completion(messages, temperature=temperature)\n",
    "print(\"Trial with temperature {} : \\n\".format(temperature), response)\n",
    "\n",
    "# Observations:\n",
    "# It is observed that the creativity and randomness of the response increases as temperature is increases. \n",
    "# With temperature 1.5, it became more verbose and constrained to say that \"prompt engineering is field of computer science and artificial intelligence\"\n",
    "# With temperature 2, it spat out gibberish."
   ]
  },
  {
   "cell_type": "markdown",
   "metadata": {},
   "source": [
    "# Part 2"
   ]
  },
  {
   "cell_type": "markdown",
   "metadata": {},
   "source": [
    "### Exercise: Text Summarization\n",
    "\n",
    "Modify the prompt below to use 3 short sentences and an exciting tone. "
   ]
  },
  {
   "cell_type": "code",
   "execution_count": 97,
   "metadata": {},
   "outputs": [
    {
     "name": "stdout",
     "output_type": "stream",
     "text": [
      "Trial 1, without being specific about how short : \n",
      " Excitingly, antibiotics are powerful medications that combat bacterial infections by either wiping out the bacteria or stopping their reproduction, giving your immune system a fighting chance! Whether in pill, capsule, liquid, or IV form, antibiotics are the superheroes of medicine. Remember, they're no match for viruses, so use them wisely to prevent the rise of antibiotic resistance!\n",
      "Trial 2, being specific on how short: \n",
      " 1. Antibiotics fight bacteria, empowering your immune system to conquer infections!\n",
      "2. Pills, capsules, or IV - they come in various forms.\n",
      "3. Beware: misuse can breed antibiotic resistance - a crucial warning!\n"
     ]
    }
   ],
   "source": [
    "system_prompt = \"\"\"\n",
    "Summarize the [Abstract] provided by the user in 3 short sentences in an exciting tone.\n",
    "\"\"\"\n",
    "\n",
    "user_prompt = \"\"\"\n",
    "Abstract: Antibiotics are a type of medication used to treat bacterial infections. They work by either killing the bacteria or preventing them from reproducing, allowing the body's immune system to fight off the infection. Antibiotics are usually taken orally in the form of pills, capsules, or liquid solutions, or sometimes administered intravenously. They are not effective against viral infections, and using them inappropriately can lead to antibiotic resistance.\n",
    "\"\"\"\n",
    "\n",
    "messages = [\n",
    "    {   \n",
    "        \"role\": \"system\",\n",
    "        \"content\": system_prompt\n",
    "    },\n",
    "    {   \n",
    "        \"role\": \"user\",\n",
    "        \"content\": user_prompt\n",
    "    },\n",
    "]\n",
    "\n",
    "response = get_completion(messages, temperature=0)\n",
    "print(\"Trial 1, without being specific about how short : \\n\".format(temperature)+\"\", response)\n",
    "\n",
    "system_prompt = \"\"\"\n",
    "Summarize the [Abstract] provided by the user in 3 short sentences in an exciting tone. Each sentence should not be more than 10 words each.\n",
    "\"\"\"\n",
    "\n",
    "messages = [\n",
    "    {   \n",
    "        \"role\": \"system\",\n",
    "        \"content\": system_prompt\n",
    "    },\n",
    "    {   \n",
    "        \"role\": \"user\",\n",
    "        \"content\": user_prompt\n",
    "    },\n",
    "]\n",
    "\n",
    "\n",
    "response = get_completion(messages, temperature=0)\n",
    "print(\"Trial 2, being specific on how short: \\n\".format(temperature)+\"\", response)\n",
    "\n",
    "# Observations:\n",
    "# Wihout being specific about how short the sentences should be, the sentences in the summary are quite long.  \n",
    "# By being specific on how short a sentence should be, the summary is shortened."
   ]
  },
  {
   "cell_type": "markdown",
   "metadata": {},
   "source": [
    "# Part 3"
   ]
  },
  {
   "attachments": {},
   "cell_type": "markdown",
   "metadata": {},
   "source": [
    "### Exercise: Explain Like I am 5\n",
    "\n",
    "Modify the prompt below to instruct the model to explain the paragraph in one sentence like \"I am 5\". Do you observe any differences in language style?"
   ]
  },
  {
   "cell_type": "code",
   "execution_count": 98,
   "metadata": {},
   "outputs": [
    {
     "name": "stdout",
     "output_type": "stream",
     "text": [
      "Trail 1 (Normal) : \n",
      " Antibiotics are medications used to treat bacterial infections by either killing the bacteria or preventing their reproduction, but they are not effective against viral infections and misuse can lead to antibiotic resistance.\n",
      "Trail 2 (Explaining a 5 year old) : \n",
      " Antibiotics are special medicine that help your body fight off bad germs that make you sick, but they only work on certain kinds of germs and you have to take them exactly how the doctor says so they can help you get better.\n"
     ]
    }
   ],
   "source": [
    "user_message = \"\"\"\n",
    "Antibiotics are a type of medication used to treat bacterial infections. They work by either killing the bacteria or preventing them from reproducing, allowing the body's immune system to fight off the infection. Antibiotics are usually taken orally in the form of pills, capsules, or liquid solutions, or sometimes administered intravenously. They are not effective against viral infections, and using them inappropriately can lead to antibiotic resistance. \n",
    "\n",
    "Explain the above in one sentence:\n",
    "\"\"\"\n",
    "\n",
    "messages = [\n",
    "    {\n",
    "        \"role\": \"user\",\n",
    "        \"content\": user_message\n",
    "    }\n",
    "]\n",
    "\n",
    "response = get_completion(messages)\n",
    "print(\"Trail 1 (Normal) : \\n \"+response)\n",
    "\n",
    "user_message = \"\"\"\n",
    "Antibiotics are a type of medication used to treat bacterial infections. They work by either killing the bacteria or preventing them from reproducing, allowing the body's immune system to fight off the infection. Antibiotics are usually taken orally in the form of pills, capsules, or liquid solutions, or sometimes administered intravenously. They are not effective against viral infections, and using them inappropriately can lead to antibiotic resistance. \n",
    "\n",
    "Explain the above as if the audience were a 5 year old, in one sentence, \n",
    "\"\"\"\n",
    "messages = [\n",
    "    {\n",
    "        \"role\": \"user\",\n",
    "        \"content\": user_message\n",
    "    }\n",
    "]\n",
    "response = get_completion(messages)\n",
    "print(\"Trail 2 (Explaining a 5 year old) : \\n \"+response)\n",
    "\n",
    "# Observations:\n",
    "# Some of the terminology used in the summary is changed to fit the vocabulary of a 5 year old."
   ]
  },
  {
   "attachments": {},
   "cell_type": "markdown",
   "metadata": {},
   "source": [
    "### Exercise: Unsure About Answer\n",
    "\n",
    "Modify the prompt below to elicit the model to respond that it isn't sure about the answer. Hint: you can try to remove important details from the prompt. The goal is to ensure that the model doesn't make up an answer if it's not able to find an answer."
   ]
  },
  {
   "cell_type": "code",
   "execution_count": 166,
   "metadata": {},
   "outputs": [
    {
     "name": "stdout",
     "output_type": "stream",
     "text": [
      "Trail 1 - Improving the prompt and removing only OKT3 information: \n",
      "Teplizumab was originally sourced from a New Jersey drug company called Ortho Pharmaceutical.\n",
      "Trail 2 - Removing a lot more content than just OKT3: \n",
      "Unsure about answer\n",
      "Trail 3 - Without removing significant content, just changing the model to gpt-4-turbo: \n",
      "Unsure about answer\n"
     ]
    }
   ],
   "source": [
    "# The words source and roots are pretty close in meaning and hence the hallucination.\n",
    "system_message_1 = \"\"\"\n",
    "Answer the [question] using only the [context] given below in triple backticks. Do not use any outside information. Keep the answer short and concise. Respond \"Unsure about answer\" if not sure about the answer.\n",
    "\n",
    "context: \n",
    "```\n",
    "Teplizumab traces its roots to a New Jersey drug company called Ortho Pharmaceutical. There, scientists generated an early version of the antibody. The molecule was able to bind to the surface of T cells and limit their cell-killing potential. In 1986, it was approved to help prevent organ rejection after kidney transplants, making it the first therapeutic antibody allowed for human use.\n",
    "```\n",
    "\"\"\"\n",
    "\n",
    "user_message = \"\"\"\n",
    "question: What was OKT3 originally sourced from?\n",
    "\n",
    "Answer:\n",
    "\"\"\"\n",
    "\n",
    "messages = [\n",
    "    {\n",
    "        \"role\": \"system\",\n",
    "        \"content\": system_message_1\n",
    "    },\n",
    "    {\n",
    "        \"role\": \"user\",\n",
    "        \"content\": user_message\n",
    "    },\n",
    "]\n",
    "\n",
    "response = get_completion(messages=messages)\n",
    "print(\"Trail 1 - Improving the prompt and removing only OKT3 information: \\n\"+response)\n",
    "\n",
    "# Removing significant amount of information from the context to get the desired response. \n",
    "system_message_2 = \"\"\"\n",
    "Answer the [question] using only the [context] given below in triple backticks. Do not use any outside information. Keep the answer short and concise. Respond \"Unsure about answer\" if not sure about the answer.\n",
    "\n",
    "context:\n",
    "```\n",
    "The molecule was able to bind to the surface of T cells and limit their cell-killing potential. In 1986, it was approved to help prevent organ rejection after kidney transplants, making it the first therapeutic antibody allowed for human use.\n",
    "```\n",
    "\"\"\"\n",
    "messages = [\n",
    "    {\n",
    "        \"role\": \"system\",\n",
    "        \"content\": system_message_2\n",
    "    },\n",
    "    {\n",
    "        \"role\": \"user\",\n",
    "        \"content\": user_message\n",
    "    },\n",
    "]\n",
    "\n",
    "response = get_completion(messages=messages)\n",
    "print(\"Trail 2 - Removing a lot more content than just OKT3: \\n\"+response)\n",
    "\n",
    "messages = [\n",
    "    {\n",
    "        \"role\": \"system\",\n",
    "        \"content\": system_message_1\n",
    "    },\n",
    "    {\n",
    "        \"role\": \"user\",\n",
    "        \"content\": user_message\n",
    "    },\n",
    "]\n",
    "\n",
    "response = get_completion(model=\"gpt-4-turbo\", messages=messages)\n",
    "print(\"Trail 3 - Without removing significant content, just changing the model to gpt-4-turbo: \\n\"+response)\n"
   ]
  },
  {
   "attachments": {},
   "cell_type": "markdown",
   "metadata": {},
   "source": [
    "### Exercise: Explain Answers\n",
    "\n",
    "Modify the prompt below to instruct the model to provide an explanation for the answer selected."
   ]
  },
  {
   "cell_type": "code",
   "execution_count": 7,
   "metadata": {},
   "outputs": [
    {
     "name": "stdout",
     "output_type": "stream",
     "text": [
      "Neutral\n",
      "\n",
      "Explanation:\n",
      "The text expresses a neutral sentiment because the speaker's opinion of the food is neither overly positive nor negative. They simply state that they think the food was okay, indicating a moderate or indifferent feeling towards it.\n"
     ]
    }
   ],
   "source": [
    "user_message = \"\"\"\n",
    "Classify the text into neutral, negative or positive. Provide an explanation why such classification was made.\n",
    "\n",
    "Text: I think the food was okay.\n",
    "\n",
    "Sentiment:\n",
    "\"\"\"\n",
    "\n",
    "messages = [\n",
    "    {\n",
    "        \"role\": \"user\",\n",
    "        \"content\": user_message\n",
    "    }\n",
    "]\n",
    "\n",
    "response = get_completion(messages)\n",
    "print(response)"
   ]
  },
  {
   "attachments": {},
   "cell_type": "markdown",
   "metadata": {},
   "source": [
    "### Exercise: Precise Output and Delimiters\n",
    "Add an additional instruction to use delimiter around the input text. Also, add an instruction to output the label in lowercase."
   ]
  },
  {
   "cell_type": "code",
   "execution_count": 11,
   "metadata": {},
   "outputs": [
    {
     "name": "stdout",
     "output_type": "stream",
     "text": [
      "Trial 1 - Neutral sentiment: \n",
      "Sentiment: neutral\n",
      "Reason: The text expresses a neutral sentiment because the statement \"I think the food was okay\" does not convey strong positive or negative emotions. It suggests a moderate or indifferent opinion about the food, indicating a neutral sentiment.\n",
      "Trial 2 - Negative sentiment: \n",
      "Sentiment: negative\n",
      "Reason: The sentiment is classified as negative because the statement expresses uncertainty and regret about eating the food. The use of \"not sure\" and \"ate that food\" implies a negative feeling or experience.\n"
     ]
    }
   ],
   "source": [
    "system_message = \"\"\"\n",
    "## Objective ##\n",
    "Classify the [text] provided in triple backticks into neutral, negative or positive [sentiment]. Provide an [explanation] why such classification was made\n",
    "\n",
    "## Response format ##\n",
    "Sentiment: The [sentiment] in lower case\n",
    "Reason: [explanation]\n",
    "\"\"\"\n",
    "\n",
    "user_message = \"\"\"\n",
    "Text: \n",
    "```\n",
    "I think the food was okay.\n",
    "```\n",
    "\"\"\"\n",
    "\n",
    "messages = [\n",
    "    {\n",
    "        \"role\": \"system\",\n",
    "        \"content\": system_message\n",
    "    },\n",
    "    {\n",
    "        \"role\": \"user\",\n",
    "        \"content\": user_message\n",
    "    }\n",
    "]\n",
    "\n",
    "user_message = \"\"\"\n",
    "Text: \n",
    "```\n",
    "Im not sure why i ate that food.\n",
    "```\n",
    "\"\"\"\n",
    "\n",
    "response = get_completion(messages)\n",
    "print(\"Trial 1 - Neutral sentiment: \\n\"+response)\n",
    "\n",
    "messages = [\n",
    "    {\n",
    "        \"role\": \"system\",\n",
    "        \"content\": system_message\n",
    "    },\n",
    "    {\n",
    "        \"role\": \"user\",\n",
    "        \"content\": user_message\n",
    "    }\n",
    "]\n",
    "\n",
    "response = get_completion(messages)\n",
    "print(\"Trial 2 - Negative sentiment: \\n\"+response)"
   ]
  },
  {
   "attachments": {},
   "cell_type": "markdown",
   "metadata": {},
   "source": [
    "### Exercise: Information Extraction\n",
    "\n",
    "Use the poem below to create a prompt that instructs the model to extract all the verbs, including the number of verbs found. "
   ]
  },
  {
   "cell_type": "code",
   "execution_count": 13,
   "metadata": {},
   "outputs": [
    {
     "name": "stdout",
     "output_type": "stream",
     "text": [
      "Verbs: peering, stood, wondering, fearing, doubting, dreaming, dared, dream, was, broken, gave, spoken, whispered, whispered, murmured\n",
      "Number: 14\n"
     ]
    }
   ],
   "source": [
    "system_message = \"\"\"\n",
    "## Objective ##\n",
    "Extract all the [verbs] in the [poem] given in triple backticks. \n",
    "\n",
    "## Response format ##\n",
    "Verbs: list of [verbs] separated by comma\n",
    "Number: no. of [verbs] identified\n",
    "\"\"\"\n",
    "\n",
    "user_message = \"\"\"\n",
    "Poem:\n",
    "```\n",
    "Deep into that darkness peering,\n",
    "\n",
    "Long I stood there, wondering, fearing,\n",
    "\n",
    "Doubting, dreaming dreams no mortals\n",
    "\n",
    "Ever dared to dream before;\n",
    "\n",
    "But the silence was unbroken,\n",
    "\n",
    "And the stillness gave no token,\n",
    "\n",
    "And the only word there spoken\n",
    "\n",
    "Was the whispered word, \"Lenore!\"\n",
    "\n",
    "This I whispered, and an echo\n",
    "\n",
    "Murmured back the word, \"Lenore!\"\n",
    "\n",
    "Merely this, and nothing more.\n",
    "```\n",
    "\"\"\"\n",
    "\n",
    "messages = [\n",
    "    {\n",
    "        \"role\": \"system\",\n",
    "        \"content\": system_message\n",
    "    },\n",
    "    {\n",
    "        \"role\": \"user\",\n",
    "        \"content\": user_message\n",
    "    }\n",
    "]\n",
    "\n",
    "response = get_completion(messages)\n",
    "print(response)"
   ]
  },
  {
   "cell_type": "markdown",
   "metadata": {},
   "source": [
    "# Part 4"
   ]
  },
  {
   "attachments": {},
   "cell_type": "markdown",
   "metadata": {},
   "source": [
    "### Exercise: Keep it Short and Concise | Use Role Playing\n",
    "\n",
    "Modify the prompt below to instruct the model to keep AI responses concise and short. Modify the prompt so that it uses a `system_message` and `user_message`. In addition, modify the prompt so that it encourages further interactions."
   ]
  },
  {
   "cell_type": "code",
   "execution_count": 106,
   "metadata": {},
   "outputs": [
    {
     "name": "stdout",
     "output_type": "stream",
     "text": [
      "Black holes are formed when a massive star runs out of fuel and collapses under its own gravity. This collapse causes the star's core to shrink to a point of infinite density, known as a singularity. The gravitational pull of this singularity is so strong that not even light can escape, creating a region of spacetime from which nothing can escape, known as the event horizon. This is what we refer to as a black hole.\n"
     ]
    }
   ],
   "source": [
    "user_message = \"\"\"\n",
    "The following is a conversation with an AI research assistant. The assistant tone is technical and scientific.\n",
    "\n",
    "Human: Hello, who are you?\n",
    "AI: Greetings! I am an AI research assistant. How can I help you today?\n",
    "Human: Can you tell me about the creation of black holes?\n",
    "AI:\n",
    "\"\"\"\n",
    "\n",
    "messages = [\n",
    "    {\n",
    "        \"role\": \"user\",\n",
    "        \"content\": user_message\n",
    "    }\n",
    "]\n",
    "\n",
    "response = get_completion(messages)\n",
    "print(response)"
   ]
  },
  {
   "attachments": {},
   "cell_type": "markdown",
   "metadata": {},
   "source": [
    "### Exercise: Step-by-Step Solution\n",
    "\n",
    "Modify the prompt to steer the model to think in steps before providing an answer. Try to be specific about the particular steps you need the model to take. "
   ]
  },
  {
   "cell_type": "code",
   "execution_count": 107,
   "metadata": {},
   "outputs": [
    {
     "name": "stdout",
     "output_type": "stream",
     "text": [
      "4 + 9 + 12 + 1 = 26\n",
      "\n",
      "Therefore, the sum of all the numbers in odd positions is 26, which is an even number.\n"
     ]
    }
   ],
   "source": [
    "user_message = \"\"\"\n",
    "Adding all the numbers in odd positions will add up to an even number: 4, 8, 9, 15, 12, 2, 1.\n",
    "\"\"\"\n",
    "\n",
    "messages = [\n",
    "    {\n",
    "        \"role\": \"user\",\n",
    "        \"content\": user_message\n",
    "    }\n",
    "]\n",
    "\n",
    "response = get_completion(messages)\n",
    "print(response)"
   ]
  },
  {
   "cell_type": "markdown",
   "metadata": {},
   "source": [
    "---"
   ]
  }
 ],
 "metadata": {
  "kernelspec": {
   "display_name": "langchain",
   "language": "python",
   "name": "python3"
  },
  "language_info": {
   "codemirror_mode": {
    "name": "ipython",
    "version": 3
   },
   "file_extension": ".py",
   "mimetype": "text/x-python",
   "name": "python",
   "nbconvert_exporter": "python",
   "pygments_lexer": "ipython3",
   "version": "3.9.19"
  },
  "orig_nbformat": 4
 },
 "nbformat": 4,
 "nbformat_minor": 2
}
